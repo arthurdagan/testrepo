{
 "cells": [
  {
   "cell_type": "markdown",
   "metadata": {},
   "source": [
    "<center>\n",
    "    <img src=\"https://s3-api.us-geo.objectstorage.softlayer.net/cf-courses-data/CognitiveClass/Logos/organization_logo/organization_logo.png\" width=\"300\" alt=\"cognitiveclass.ai logo\"  />\n",
    "</center>\n"
   ]
  },
  {
   "cell_type": "markdown",
   "metadata": {
    "tags": []
   },
   "source": [
    "#### Add your code below following the instructions given in the course\n"
   ]
  },
  {
   "cell_type": "code",
   "execution_count": null,
   "metadata": {},
   "outputs": [],
   "source": [
    "# My Jupyter Notebook on IBM Watson Studio\n",
    "\n",
    "**Arthur DAGAN**\n",
    "M&E Specialist for REDISSE Project\n",
    "\n",
    "*I am interested in data science to address my profile to fit the job market. Indeed, I am statistician and as the field is changing with the technology impact i have to ajust myself.*\n",
    "\n",
    "### My code is supposed to compute the natural log of 1\n",
    "\n",
    "import math\n",
    "print(math.log(1))\n",
    "\n",
    "1. Dad\n",
    "2. Mom\n",
    "3. Kids\n",
    "\n",
    "~~Lazy~~\n",
    "\n",
    "Markdown | Less | Pretty\n",
    "--- | --- | ---\n",
    "*Still* | `renders` | **nicely**\n",
    "1 | 2 | 3"
   ]
  }
 ],
 "metadata": {
  "kernelspec": {
   "display_name": "Python",
   "language": "python",
   "name": "conda-env-python-py"
  },
  "language_info": {
   "codemirror_mode": {
    "name": "ipython",
    "version": 3
   },
   "file_extension": ".py",
   "mimetype": "text/x-python",
   "name": "python",
   "nbconvert_exporter": "python",
   "pygments_lexer": "ipython3",
   "version": "3.7.6"
  }
 },
 "nbformat": 4,
 "nbformat_minor": 4
}
